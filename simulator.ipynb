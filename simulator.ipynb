{
 "cells": [
  {
   "cell_type": "markdown",
   "metadata": {},
   "source": [
    "# State Vector Simulator for Quantum Computers\n",
    "\n",
    "The state of a quantum bit, a qubit, can be represented as a vector, and as such, we can simulate them using linear algebra on classical computers. A qubit in state |0> is represented by the vector [1, 0]. This representation signifies that when the first qubit is measured, there is a probability of $1$ that the qubit will be measured in the state |0>. Likewise, a qubit in state |1> is represented by the vector [0, 1], and has a probability of $1$ of being measured in the state |1>.\n",
    "\n",
    "A qubit can also be in the state [$\\frac{1}{\\sqrt{2}}$, $\\frac{1}{\\sqrt{2}}$], where it has an equal probability of being measured in the state |0> or |1>."
   ]
  },
  {
   "cell_type": "code",
   "execution_count": 2,
   "metadata": {},
   "outputs": [],
   "source": [
    "import numpy as np"
   ]
  },
  {
   "cell_type": "code",
   "execution_count": 3,
   "metadata": {},
   "outputs": [],
   "source": [
    "zeroState = np.array([1, 0])\n",
    "oneState = np.array([0, 1])\n"
   ]
  },
  {
   "cell_type": "markdown",
   "metadata": {},
   "source": [
    "## Multi Qubit-Representations\n",
    "\n",
    "Now that we have defined what our one qubit states look like, we now need to look at our multi-qubit states. We represent these states using the Kronecker product. This means a state with one qubit will have length 2, a state with two qubits will have length 4, and a state with n qubits will have length 2^n. The state will be represented as such:\n",
    "\n",
    "|00> = [1, 0, 0, 0]\n",
    "\n",
    "|01> = [0, 1, 0, 0]\n",
    "\n",
    "|10> = [0, 0, 1, 0] \n",
    "\n",
    "|11> = [0, 0, 0, 1]\n",
    "\n"
   ]
  },
  {
   "cell_type": "code",
   "execution_count": 4,
   "metadata": {},
   "outputs": [
    {
     "name": "stdout",
     "output_type": "stream",
     "text": [
      "The state |00> is represented by this vector:  [1 0 0 0]\n",
      "The state |01> is represented by this vector:  [0 1 0 0]\n",
      "The state |10> is represented by this vector:  [0 0 1 0]\n",
      "The state |11> is represented by this vector:  [0 0 0 1]\n"
     ]
    }
   ],
   "source": [
    "zeroZeroState = np.kron(zeroState, zeroState)\n",
    "print(\"The state |00> is represented by this vector: \", zeroZeroState)\n",
    "zeroOneState = np.kron(zeroState, oneState)\n",
    "print(\"The state |01> is represented by this vector: \", zeroOneState)\n",
    "oneZeroState = np.kron(oneState, zeroState)\n",
    "print(\"The state |10> is represented by this vector: \", oneZeroState)\n",
    "oneOneState = np.kron(oneState, oneState)\n",
    "print(\"The state |11> is represented by this vector: \", oneOneState)"
   ]
  },
  {
   "cell_type": "markdown",
   "metadata": {},
   "source": [
    "Now that we have confirmed that our multi-qubit representation is correct, we can now create our gates. Let us start by creating the identity gate."
   ]
  },
  {
   "cell_type": "code",
   "execution_count": 5,
   "metadata": {},
   "outputs": [
    {
     "name": "stdout",
     "output_type": "stream",
     "text": [
      "After passing the qubit |0> through the I gate, we get:  [1 0]\n",
      "After passing the qubit |1> through the I gate, we get:  [0 1]\n"
     ]
    }
   ],
   "source": [
    "I = np.array([[1, 0], [0, 1]])\n",
    "print(\"After passing the qubit |0> through the I gate, we get: \", np.dot(I, zeroState))\n",
    "print(\"After passing the qubit |1> through the I gate, we get: \", np.dot(I, oneState))"
   ]
  },
  {
   "cell_type": "markdown",
   "metadata": {},
   "source": [
    "Next, we create the X, Y, and Z gates. These gates allow us to perform single qubit operations."
   ]
  },
  {
   "cell_type": "code",
   "execution_count": 6,
   "metadata": {},
   "outputs": [
    {
     "name": "stdout",
     "output_type": "stream",
     "text": [
      "After passing the qubit |0> through the X gate, we get:  [0 1]\n",
      "After passing the qubit |1> through the X gate, we get:  [1 0]\n",
      "After passing the qubit |0> through the Y gate, we get:  [0.+0.j 0.+1.j]\n",
      "After passing the qubit |1> through the Y gate, we get:  [0.-1.j 0.+0.j]\n",
      "After passing the qubit |0> through the Z gate, we get:  [1 0]\n",
      "After passing the qubit |1> through the Z gate, we get:  [ 0 -1]\n"
     ]
    }
   ],
   "source": [
    "X = np.array([[0, 1], [1, 0]])\n",
    "print(\"After passing the qubit |0> through the X gate, we get: \", np.dot(X, zeroState))\n",
    "print(\"After passing the qubit |1> through the X gate, we get: \", np.dot(X, oneState))\n",
    "\n",
    "Y = np.array([[0, -1j], [1j, 0]])\n",
    "print(\"After passing the qubit |0> through the Y gate, we get: \", np.dot(Y, zeroState))\n",
    "print(\"After passing the qubit |1> through the Y gate, we get: \", np.dot(Y, oneState))\n",
    "\n",
    "Z = np.array([[1, 0], [0, -1]])\n",
    "print(\"After passing the qubit |0> through the Z gate, we get: \", np.dot(Z, zeroState))\n",
    "print(\"After passing the qubit |1> through the Z gate, we get: \", np.dot(Z, oneState))"
   ]
  },
  {
   "cell_type": "markdown",
   "metadata": {},
   "source": [
    "Finally, we add the CNOT and Hadamard(H) gates. These allow for entanglement and superposition, two of the properties that give quantum computing an advantage over classical computing when it comes to certain problems."
   ]
  },
  {
   "cell_type": "code",
   "execution_count": 7,
   "metadata": {},
   "outputs": [
    {
     "name": "stdout",
     "output_type": "stream",
     "text": [
      "After passing the qubit |00> through the CNOT gate, we get:  [1 0 0 0]\n",
      "After passing the qubit |01> through the CNOT gate, we get:  [0 1 0 0]\n",
      "After passing the qubit |10> through the CNOT gate, we get:  [0 0 0 1]\n",
      "After passing the qubit |11> through the CNOT gate, we get:  [0 0 1 0]\n",
      "After passing the qubit |00> through the Inverse CNOT gate, we get:  [1 0 0 0]\n",
      "After passing the qubit |01> through the Inverse CNOT gate, we get:  [0 0 0 1]\n",
      "After passing the qubit |10> through the Inverse CNOT gate, we get:  [0 0 1 0]\n",
      "After passing the qubit |11> through the Inverse CNOT gate, we get:  [0 1 0 0]\n",
      "After passing the qubit |0> through the H gate, we get:  [0.70710678 0.70710678]\n",
      "After passing the qubit |1> through the H gate, we get:  [ 0.70710678 -0.70710678]\n"
     ]
    }
   ],
   "source": [
    "CNOT = np.array([[1, 0, 0, 0], [0, 1, 0, 0], [0, 0, 0, 1], [0, 0, 1, 0]])\n",
    "print(\"After passing the qubit |00> through the CNOT gate, we get: \", np.dot(CNOT, zeroZeroState))\n",
    "print(\"After passing the qubit |01> through the CNOT gate, we get: \", np.dot(CNOT, zeroOneState))\n",
    "print(\"After passing the qubit |10> through the CNOT gate, we get: \", np.dot(CNOT, oneZeroState))\n",
    "print(\"After passing the qubit |11> through the CNOT gate, we get: \", np.dot(CNOT, oneOneState))\n",
    "\n",
    "InverseCNOT = np.array([[1, 0, 0, 0], [0, 0, 0, 1], [0, 0, 1, 0], [0, 1, 0, 0]])\n",
    "print(\"After passing the qubit |00> through the Inverse CNOT gate, we get: \", np.dot(InverseCNOT, zeroZeroState))\n",
    "print(\"After passing the qubit |01> through the Inverse CNOT gate, we get: \", np.dot(InverseCNOT, zeroOneState))\n",
    "print(\"After passing the qubit |10> through the Inverse CNOT gate, we get: \", np.dot(InverseCNOT, oneZeroState))\n",
    "print(\"After passing the qubit |11> through the Inverse CNOT gate, we get: \", np.dot(InverseCNOT, oneOneState))\n",
    "\n",
    "H = np.array([[1, 1], [1, -1]]) / np.sqrt(2)\n",
    "print(\"After passing the qubit |0> through the H gate, we get: \", np.dot(H, zeroState))\n",
    "print(\"After passing the qubit |1> through the H gate, we get: \", np.dot(H, oneState))"
   ]
  },
  {
   "cell_type": "markdown",
   "metadata": {},
   "source": [
    "We can now start building circuits. In order to do that, we set up our initial quantum state by using the kroneker product and our initial states. We will start by building a small circuit with just three qubits."
   ]
  },
  {
   "cell_type": "code",
   "execution_count": 8,
   "metadata": {},
   "outputs": [
    {
     "name": "stdout",
     "output_type": "stream",
     "text": [
      "The initial state is:  [1 0 0 0 0 0 0 0]\n"
     ]
    }
   ],
   "source": [
    "inputs = [0,0,0]\n",
    "if inputs[0] == 0:\n",
    "    initial_state = zeroState\n",
    "else:\n",
    "    initial_state = oneState\n",
    "\n",
    "for i in range(len(initial_state - 1)):\n",
    "    if inputs[i] == 0:\n",
    "        initial_state = np.kron(initial_state, zeroState)\n",
    "    else:\n",
    "        initial_state = np.kron(initial_state, oneState)\n",
    "\n",
    "print(\"The initial state is: \", initial_state)"
   ]
  },
  {
   "cell_type": "markdown",
   "metadata": {},
   "source": [
    "Now, we will create a sample circuit. We take the first qubit and use the H gate to put it in a superposition. Then we use a CNOT to entangle the first and second qubit. Then we use CNOTs to swap the values of the second and third qubit."
   ]
  },
  {
   "cell_type": "code",
   "execution_count": 9,
   "metadata": {},
   "outputs": [],
   "source": [
    "first_layer_gates = [H, I, I]\n",
    "for i in range(len(first_layer_gates)):\n",
    "    if i == 0:\n",
    "        first_layer = first_layer_gates[i]\n",
    "    else:\n",
    "        first_layer = np.kron(first_layer, first_layer_gates[i])\n",
    "\n",
    "second_layer_gates = [CNOT, I]\n",
    "for i in range(len(second_layer_gates)):\n",
    "    if i == 0:\n",
    "        second_layer = second_layer_gates[i]\n",
    "    else:\n",
    "        second_layer = np.kron(second_layer, second_layer_gates[i])\n",
    "\n",
    "third_layer_gates = [I, CNOT]\n",
    "for i in range(len(third_layer_gates)):\n",
    "    if i == 0:\n",
    "        third_layer = third_layer_gates[i]\n",
    "    else:\n",
    "        third_layer = np.kron(third_layer, third_layer_gates[i])\n",
    "\n",
    "fourth_layer_gates = [I, InverseCNOT]\n",
    "for i in range(len(fourth_layer_gates)):\n",
    "    if i == 0:\n",
    "        fourth_layer = fourth_layer_gates[i]\n",
    "    else:\n",
    "        fourth_layer = np.kron(fourth_layer, fourth_layer_gates[i])\n",
    "\n",
    "fifth_layer_gates = [I, CNOT]\n",
    "for i in range(len(fifth_layer_gates)):\n",
    "    if i == 0:\n",
    "        fifth_layer = fifth_layer_gates[i]\n",
    "    else:\n",
    "        fifth_layer = np.kron(fifth_layer, fifth_layer_gates[i])\n"
   ]
  },
  {
   "cell_type": "code",
   "execution_count": 10,
   "metadata": {},
   "outputs": [
    {
     "name": "stdout",
     "output_type": "stream",
     "text": [
      "The state after the first layer is:  [0.70710678 0.         0.         0.         0.70710678 0.\n",
      " 0.         0.        ]\n",
      "The state after the second layer is:  [0.70710678 0.         0.         0.         0.         0.\n",
      " 0.70710678 0.        ]\n",
      "The state after the third layer is:  [0.70710678 0.         0.         0.         0.         0.\n",
      " 0.         0.70710678]\n",
      "The state after the fourth layer is:  [0.70710678 0.         0.         0.         0.         0.70710678\n",
      " 0.         0.        ]\n",
      "The state after the fifth layer is:  [0.70710678 0.         0.         0.         0.         0.70710678\n",
      " 0.         0.        ]\n"
     ]
    }
   ],
   "source": [
    "first_state = np.dot(first_layer, initial_state)\n",
    "print(\"The state after the first layer is: \", first_state)\n",
    "\n",
    "second_state = np.dot(second_layer, first_state)\n",
    "print(\"The state after the second layer is: \", second_state)\n",
    "\n",
    "third_state = np.dot(third_layer, second_state)\n",
    "print(\"The state after the third layer is: \", third_state)\n",
    "\n",
    "fourth_state = np.dot(fourth_layer, third_state)\n",
    "print(\"The state after the fourth layer is: \", fourth_state)\n",
    "\n",
    "fifth_state = np.dot(fifth_layer, fourth_state)\n",
    "print(\"The state after the fifth layer is: \", fifth_state)"
   ]
  },
  {
   "cell_type": "markdown",
   "metadata": {},
   "source": [
    "Let us make some functions to simplify the process of creating a circuit."
   ]
  },
  {
   "cell_type": "code",
   "execution_count": 16,
   "metadata": {},
   "outputs": [],
   "source": [
    "def create_initial_state(input):\n",
    "    if input[0] == 0:\n",
    "        initial_state = zeroState\n",
    "    else:\n",
    "        initial_state = oneState\n",
    "\n",
    "    for i in range(1, len(input)):\n",
    "        if input[i] == 0:\n",
    "            initial_state = np.kron(initial_state, zeroState)\n",
    "        else:\n",
    "            initial_state = np.kron(initial_state, oneState)\n",
    "\n",
    "    return initial_state\n",
    "\n",
    "def create_layers(gates):\n",
    "    layers = []\n",
    "    for i in range(len(gates)):\n",
    "        for j in range(len(gates[i])):\n",
    "            if j == 0:\n",
    "                cur_layer = gates[i][j]\n",
    "            else:\n",
    "                cur_layer = np.kron(cur_layer, gates[i][j])\n",
    "        layers.append(cur_layer)\n",
    "    return layers\n",
    "\n",
    "def apply_layers(layers, initial_state):\n",
    "    cur_state = initial_state\n",
    "    for i in range(len(layers)):\n",
    "        cur_state = np.dot(layers[i], cur_state)\n",
    "    return cur_state"
   ]
  },
  {
   "cell_type": "markdown",
   "metadata": {},
   "source": [
    "Now, we check that our functions do the same thing as the code above."
   ]
  },
  {
   "cell_type": "code",
   "execution_count": 19,
   "metadata": {},
   "outputs": [
    {
     "name": "stdout",
     "output_type": "stream",
     "text": [
      "The initial state is:  [1 0 0 0 0 0 0 0]\n",
      "The final state is:  [0.70710678 0.         0.         0.         0.         0.70710678\n",
      " 0.         0.        ]\n",
      "The final state is correct\n"
     ]
    }
   ],
   "source": [
    "initial_state = create_initial_state([0, 0, 0])\n",
    "print(\"The initial state is: \", initial_state)\n",
    "\n",
    "gates = [[H, I, I], [CNOT, I], [I, CNOT], [I, InverseCNOT], [I, CNOT]]\n",
    "layers = create_layers(gates)\n",
    "\n",
    "final_state = apply_layers(layers, initial_state)\n",
    "print(\"The final state is: \", final_state)\n",
    "\n",
    "if np.array_equal(fifth_state, final_state):\n",
    "    print(\"The final state is correct\")"
   ]
  },
  {
   "cell_type": "markdown",
   "metadata": {},
   "source": [
    "## Testing Runtime\n",
    "\n",
    "There are two main factors that can affect the runtime of the circuit: The amount of qubits, and the depth of the circuit. We will now explore how these two variables affect the runtime. First, we randomly generate the initial qubit state, as well as a random circuit. The gates we chose do not matter, as everything is done through matrix multiplication."
   ]
  },
  {
   "cell_type": "code",
   "execution_count": 20,
   "metadata": {},
   "outputs": [],
   "source": [
    "def create_random_state(num_qubits):\n",
    "    choices = [0, 1]\n",
    "    initial_state = np.random.choice(choices, num_qubits)\n",
    "    return initial_state\n",
    "\n",
    "def create_random_layers(num_layers, num_qubits):\n",
    "    gates = [H, I, X, Y, Z, CNOT, InverseCNOT]\n",
    "    layers = []\n",
    "    for i in range(num_layers):\n",
    "        cur_layer = []\n",
    "        j = 0\n",
    "        while (j < num_qubits):\n",
    "            gate = np.random.choice(range(7))\n",
    "            cur_layer.append(gates[gate])\n",
    "            j += 1\n",
    "            if gate == 5 or gate == 6:\n",
    "                j += 1\n",
    "                if j > num_qubits:\n",
    "                    cur_layer.pop()\n",
    "                    j -= 2\n",
    "        layers.append(cur_layer)\n",
    "    return layers"
   ]
  },
  {
   "cell_type": "code",
   "execution_count": 21,
   "metadata": {},
   "outputs": [
    {
     "name": "stdout",
     "output_type": "stream",
     "text": [
      "The random state is:  [0 1 1]\n",
      "The layer is:  [array([[ 1,  0],\n",
      "       [ 0, -1]]), array([[1, 0, 0, 0],\n",
      "       [0, 0, 0, 1],\n",
      "       [0, 0, 1, 0],\n",
      "       [0, 1, 0, 0]])]\n",
      "The layer is:  [array([[1, 0, 0, 0],\n",
      "       [0, 0, 0, 1],\n",
      "       [0, 0, 1, 0],\n",
      "       [0, 1, 0, 0]]), array([[ 1,  0],\n",
      "       [ 0, -1]])]\n",
      "The layer is:  [array([[ 0.+0.j, -0.-1.j],\n",
      "       [ 0.+1.j,  0.+0.j]]), array([[1, 0, 0, 0],\n",
      "       [0, 0, 0, 1],\n",
      "       [0, 0, 1, 0],\n",
      "       [0, 1, 0, 0]])]\n",
      "The layer is:  [array([[1, 0, 0, 0],\n",
      "       [0, 1, 0, 0],\n",
      "       [0, 0, 0, 1],\n",
      "       [0, 0, 1, 0]]), array([[ 0.+0.j, -0.-1.j],\n",
      "       [ 0.+1.j,  0.+0.j]])]\n",
      "The layer is:  [array([[1, 0, 0, 0],\n",
      "       [0, 1, 0, 0],\n",
      "       [0, 0, 0, 1],\n",
      "       [0, 0, 1, 0]]), array([[1, 0],\n",
      "       [0, 1]])]\n",
      "8\n",
      "The final state is:  [ 0.+0.j  0.+0.j  0.+0.j  0.+0.j  0.+0.j  0.+0.j -1.+0.j  0.+0.j]\n"
     ]
    }
   ],
   "source": [
    "state = create_random_state(3)\n",
    "print(\"The random state is: \", state)\n",
    "\n",
    "circuit = create_random_layers(5, 3)\n",
    "for layer in circuit:\n",
    "    print(\"The layer is: \", layer)\n",
    "\n",
    "state = create_initial_state(state)\n",
    "circuit = create_layers(circuit)\n",
    "\n",
    "print(np.size(state))\n",
    "final_state = apply_layers(circuit, state)\n",
    "print(\"The final state is: \", final_state)"
   ]
  },
  {
   "cell_type": "code",
   "execution_count": 27,
   "metadata": {},
   "outputs": [
    {
     "data": {
      "image/png": "[encoded data removed]",
      "text/plain": [
       "<Figure size 640x480 with 1 Axes>"
      ]
     },
     "metadata": {},
     "output_type": "display_data"
    }
   ],
   "source": [
    "import time\n",
    "import matplotlib.pyplot as plt\n",
    "\n",
    "depth = 5\n",
    "qubit_values = range(1, 15)\n",
    "execution_times = []\n",
    "\n",
    "for num_qubits in qubit_values:\n",
    "    start_time = time.time()\n",
    "\n",
    "    state = create_random_state(num_qubits)\n",
    "    state = create_initial_state(state)\n",
    "\n",
    "    circuit = create_random_layers(depth, num_qubits)\n",
    "    circuit = create_layers(circuit)\n",
    "\n",
    "    apply_layers(circuit, state)\n",
    "    end_time = time.time()\n",
    "    execution_times.append(end_time - start_time)\n",
    "\n",
    "# Plot the results\n",
    "plt.plot(qubit_values, execution_times, marker='o')\n",
    "plt.xlabel('Number of Qubits')\n",
    "plt.ylabel('Execution Time (seconds)')\n",
    "plt.title('Execution Time vs Number of Qubits')\n",
    "plt.grid(True)\n",
    "plt.show()"
   ]
  },
  {
   "cell_type": "markdown",
   "metadata": {},
   "source": [
    "When running our circuit, the time taken to simulate qubits grows exponentially, meaning we can only simulate circuit with less than ~20 qubits in reasonable time."
   ]
  },
  {
   "cell_type": "code",
   "execution_count": 32,
   "metadata": {},
   "outputs": [
    {
     "data": {
      "image/png": "[encoded data removed]",
      "text/plain": [
       "<Figure size 640x480 with 1 Axes>"
      ]
     },
     "metadata": {},
     "output_type": "display_data"
    }
   ],
   "source": [
    "depth_values = range(1, 200)\n",
    "num_qubits = 8\n",
    "execution_times = []\n",
    "\n",
    "for num_layers in depth_values:\n",
    "    start_time = time.time()\n",
    "\n",
    "    state = create_random_state(num_qubits)\n",
    "    state = create_initial_state(state)\n",
    "\n",
    "    circuit = create_random_layers(num_layers, num_qubits)\n",
    "    circuit = create_layers(circuit)\n",
    "\n",
    "    apply_layers(circuit, state)\n",
    "    end_time = time.time()\n",
    "    execution_times.append(end_time - start_time)\n",
    "\n",
    "# Plot the results\n",
    "plt.plot(depth_values, execution_times, marker='o')\n",
    "plt.xlabel('Number of Layers')\n",
    "plt.ylabel('Execution Time (seconds)')\n",
    "plt.title('Execution Time vs Number of Layers')\n",
    "plt.grid(True)\n",
    "plt.show()"
   ]
  },
  {
   "cell_type": "markdown",
   "metadata": {},
   "source": [
    "However, the time taken to simulate additional layers grows linearly, meaning we can simulate circuits with arbitrary depth in reasonable timeframes. This time can also be shortened by compliation strategies that take certain sets of gates and simplify them."
   ]
  },
  {
   "cell_type": "markdown",
   "metadata": {},
   "source": [
    "## Circuit Simulation Using Tensor Multiplication\n",
    "\n",
    "Now, we change our approach towards simulating circuits. Instead of representing our qubit states using a vector, we use an n-dimensional tensor, combined with tensor multiplication to apply gates to the circuit. First, lets look at what our initial state looks like."
   ]
  },
  {
   "cell_type": "code",
   "execution_count": 34,
   "metadata": {},
   "outputs": [
    {
     "name": "stdout",
     "output_type": "stream",
     "text": [
      "The initial vector state is:  [1 0 0 0 0 0 0 0]\n",
      "The initial tensor state is:  [[[1 0]\n",
      "  [0 0]]\n",
      "\n",
      " [[0 0]\n",
      "  [0 0]]]\n"
     ]
    }
   ],
   "source": [
    "initial_state = create_initial_state([0, 0, 0])\n",
    "print(\"The initial vector state is: \", initial_state)\n",
    "\n",
    "initial_state_tensor = np.reshape(initial_state, (2,) * 3)\n",
    "print(\"The initial tensor state is: \", initial_state_tensor)"
   ]
  },
  {
   "cell_type": "markdown",
   "metadata": {},
   "source": [
    "Now, we need to redefine certain gates, specifically the CNOT and the InverseCNOT gates, into tensor form."
   ]
  },
  {
   "cell_type": "code",
   "execution_count": 36,
   "metadata": {},
   "outputs": [
    {
     "name": "stdout",
     "output_type": "stream",
     "text": [
      "The CNOT tensor is:  [[[[1 0]\n",
      "   [0 0]]\n",
      "\n",
      "  [[0 1]\n",
      "   [0 0]]]\n",
      "\n",
      "\n",
      " [[[0 0]\n",
      "   [0 1]]\n",
      "\n",
      "  [[0 0]\n",
      "   [1 0]]]]\n",
      "The Inverse CNOT tensor is:  [[[[1 0]\n",
      "   [0 0]]\n",
      "\n",
      "  [[0 0]\n",
      "   [0 1]]]\n",
      "\n",
      "\n",
      " [[[0 0]\n",
      "   [1 0]]\n",
      "\n",
      "  [[0 1]\n",
      "   [0 0]]]]\n"
     ]
    }
   ],
   "source": [
    "T_CNOT = np.reshape(CNOT, (2, 2, 2, 2))\n",
    "print(\"The CNOT tensor is: \", T_CNOT)\n",
    "\n",
    "T_InverseCNOT = np.reshape(InverseCNOT, (2, 2, 2, 2))\n",
    "print(\"The Inverse CNOT tensor is: \", T_InverseCNOT)"
   ]
  },
  {
   "cell_type": "markdown",
   "metadata": {},
   "source": [
    "Now, we can try applying the gates to the initial state."
   ]
  },
  {
   "cell_type": "code",
   "execution_count": 74,
   "metadata": {},
   "outputs": [
    {
     "name": "stdout",
     "output_type": "stream",
     "text": [
      "The state tensor after applying the X gate is:  [[[0 0]\n",
      "  [0 0]]\n",
      "\n",
      " [[1 0]\n",
      "  [0 0]]]\n",
      "The state vector after applying the X gate is:  [0 0 0 0 1 0 0 0]\n"
     ]
    }
   ],
   "source": [
    "qubit = 0\n",
    "axes = ([0], [qubit])\n",
    "state_tensor = np.tensordot(X, initial_state_tensor, axes)\n",
    "state_tensor = np.moveaxis(state_tensor, 0, qubit)\n",
    "print(\"The state tensor after applying the X gate is: \", state_tensor)\n",
    "temp_tensor = state_tensor\n",
    "print(\"The state vector after applying the X gate is: \", np.reshape(temp_tensor, 8))\n"
   ]
  },
  {
   "cell_type": "code",
   "execution_count": 76,
   "metadata": {},
   "outputs": [
    {
     "name": "stdout",
     "output_type": "stream",
     "text": [
      "The state tensor after applying the CNOT gate is:  [[[0 0]\n",
      "  [0 0]]\n",
      "\n",
      " [[0 0]\n",
      "  [1 0]]]\n",
      "The state vector after applying the CNOT gate is:  [0 0 0 0 0 0 1 0]\n"
     ]
    }
   ],
   "source": [
    "qubits = [0, 1]\n",
    "axes = ([0, 1], qubits)\n",
    "state_tensor = np.tensordot(T_CNOT, state_tensor, axes)\n",
    "state_tensor = np.moveaxis(state_tensor, [0, 1], qubits)\n",
    "print(\"The state tensor after applying the CNOT gate is: \", state_tensor)\n",
    "temp_tensor = state_tensor\n",
    "print(\"The state vector after applying the CNOT gate is: \", np.reshape(temp_tensor, 8))"
   ]
  },
  {
   "cell_type": "markdown",
   "metadata": {},
   "source": [
    "Now that we can successfully apply our tensor gates to our tensor state, we need to rewrite some of our functions to account for these new changes."
   ]
  },
  {
   "cell_type": "code",
   "execution_count": 83,
   "metadata": {},
   "outputs": [],
   "source": [
    "def create_initial_tensor_state(input):\n",
    "    if input[0] == 0:\n",
    "        initial_state = zeroState\n",
    "    else:\n",
    "        initial_state = oneState\n",
    "\n",
    "    for i in range(1, len(input)):\n",
    "        if input[i] == 0:\n",
    "            initial_state = np.kron(initial_state, zeroState)\n",
    "        else:\n",
    "            initial_state = np.kron(initial_state, oneState)\n",
    "\n",
    "    return np.reshape(initial_state, (2,) * len(input))\n",
    "\n",
    "def apply_tensor_layers(layers, initial_state):\n",
    "    cur_state = initial_state\n",
    "    for i in range(len(layers)):\n",
    "        gates = layers[i]\n",
    "        qubit = 0\n",
    "        for gate in gates:\n",
    "            if gate.shape == (2, 2):\n",
    "                axes = ([0], [qubit])\n",
    "            else:\n",
    "                axes = ([0, 1], [qubit, qubit + 1])\n",
    "                qubit += 1\n",
    "            cur_state = np.tensordot(gate, cur_state, axes)\n",
    "            cur_state = np.moveaxis(cur_state, axes[0], axes[1])\n",
    "    return cur_state"
   ]
  },
  {
   "cell_type": "code",
   "execution_count": 84,
   "metadata": {},
   "outputs": [
    {
     "name": "stdout",
     "output_type": "stream",
     "text": [
      "The final tensor state is:  [[[0 0]\n",
      "  [0 0]]\n",
      "\n",
      " [[0 0]\n",
      "  [1 0]]]\n"
     ]
    }
   ],
   "source": [
    "create_initial_tensor_state([0, 0, 0])\n",
    "layers = [[X, I, I], [T_CNOT, I]]\n",
    "final_state = apply_tensor_layers(layers, create_initial_tensor_state([0, 0, 0]))\n",
    "print(\"The final tensor state is: \", final_state)"
   ]
  },
  {
   "cell_type": "markdown",
   "metadata": {},
   "source": [
    "## Testing Runtime of Tensor Simulation\n",
    "\n",
    "Now that we have created our quantum computer simuator with tensors, we can redo the testing using our new simulator."
   ]
  },
  {
   "cell_type": "code",
   "execution_count": 85,
   "metadata": {},
   "outputs": [],
   "source": [
    "def create_random_tensor_layers(num_layers, num_qubits):\n",
    "    gates = [H, I, X, Y, Z, T_CNOT, T_InverseCNOT]\n",
    "    layers = []\n",
    "    for i in range(num_layers):\n",
    "        cur_layer = []\n",
    "        j = 0\n",
    "        while (j < num_qubits):\n",
    "            gate = np.random.choice(range(7))\n",
    "            cur_layer.append(gates[gate])\n",
    "            j += 1\n",
    "            if gate == 5 or gate == 6:\n",
    "                j += 1\n",
    "                if j > num_qubits:\n",
    "                    cur_layer.pop()\n",
    "                    j -= 2\n",
    "        layers.append(cur_layer)\n",
    "    return layers"
   ]
  },
  {
   "cell_type": "code",
   "execution_count": 95,
   "metadata": {},
   "outputs": [
    {
     "data": {
      "image/png": "[encoded data removed]",
      "text/plain": [
       "<Figure size 640x480 with 1 Axes>"
      ]
     },
     "metadata": {},
     "output_type": "display_data"
    }
   ],
   "source": [
    "depth = 5\n",
    "qubit_values = range(1, 26)\n",
    "execution_times = []\n",
    "\n",
    "for num_qubits in qubit_values:\n",
    "    start_time = time.time()\n",
    "\n",
    "    state = create_random_state(num_qubits)\n",
    "    state = create_initial_tensor_state(state)\n",
    "\n",
    "\n",
    "    circuit = create_random_tensor_layers(depth, num_qubits)\n",
    "\n",
    "    apply_tensor_layers(circuit, state)\n",
    "    end_time = time.time()\n",
    "    execution_times.append(end_time - start_time)\n",
    "\n",
    "# Plot the results\n",
    "plt.plot(qubit_values, execution_times, marker='o')\n",
    "plt.xlabel('Number of Qubits')\n",
    "plt.ylabel('Execution Time (seconds)')\n",
    "plt.title('Execution Time vs Number of Qubits')\n",
    "plt.grid(True)\n",
    "plt.show()"
   ]
  },
  {
   "cell_type": "markdown",
   "metadata": {},
   "source": [
    "## Results\n",
    "\n",
    "Our simulator using state vector simulation took around 13 seconds to create and run a circuit that had 14 qubits. On the other hand, our tensor simulator took around 14 seconds to create and run a circuit that had 25 qubits, which is quite a large jump in computational power."
   ]
  },
  {
   "cell_type": "markdown",
   "metadata": {},
   "source": [
    "## Getting Output\n",
    "In order to sample the results, we collapse the tensor to a state vector, or use the final state vector. Then, we find the expectation values by squaring all of the values in the state vector."
   ]
  },
  {
   "cell_type": "code",
   "execution_count": 223,
   "metadata": {},
   "outputs": [],
   "source": [
    "import random\n",
    "\n",
    "def calculate_expectation_values(state):\n",
    "    if state.ndim != 1:\n",
    "        state = np.flatten(state)\n",
    "    return np.square(state)\n",
    "\n",
    "def sample_from_states(expectation_values):\n",
    "    possible_states = []\n",
    "    for i in range(len(expectation_values)):\n",
    "        if expectation_values[i] > 0:\n",
    "            length = len(expectation_values)\n",
    "            qubits = np.log2(length)\n",
    "            string = \"|\"\n",
    "            for j in range(int(qubits)):\n",
    "                if i % (length / (2**(j))) < length / (2**(j+1)):\n",
    "                    string += \"0\"\n",
    "                else:\n",
    "                    string += \"1\"\n",
    "            string += \">\"\n",
    "            possible_states.append([string, expectation_values[i]])\n",
    "        expectation_values[i] += expectation_values[i - 1]\n",
    "\n",
    "    outputs = [item[0] for item in possible_states]\n",
    "    probabilities = [item[1] for item in possible_states]\n",
    "    return random.choices(outputs, probabilities)[0]"
   ]
  },
  {
   "cell_type": "code",
   "execution_count": 238,
   "metadata": {},
   "outputs": [
    {
     "data": {
      "text/plain": [
       "'|010>'"
      ]
     },
     "execution_count": 238,
     "metadata": {},
     "output_type": "execute_result"
    }
   ],
   "source": [
    "expectation = calculate_expectation_values(np.array([0, 0, np.sqrt(2), 0, 0, np.sqrt(2), 0, 0]))\n",
    "sample_from_states(expectation)"
   ]
  },
  {
   "cell_type": "markdown",
   "metadata": {},
   "source": [
    "Now, we can pass in our final state, in either tensor or state vector form, and recieve an array representing the expectation values, and sample from these expectation values."
   ]
  }
 ],
 "metadata": {
  "kernelspec": {
   "display_name": "base",
   "language": "python",
   "name": "python3"
  },
  "language_info": {
   "codemirror_mode": {
    "name": "ipython",
    "version": 3
   },
   "file_extension": ".py",
   "mimetype": "text/x-python",
   "name": "python",
   "nbconvert_exporter": "python",
   "pygments_lexer": "ipython3",
   "version": "3.11.5"
  }
 },
 "nbformat": 4,
 "nbformat_minor": 2
}
