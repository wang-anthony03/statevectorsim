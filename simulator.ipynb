{
 "cells": [
  {
   "cell_type": "markdown",
   "metadata": {},
   "source": [
    "# State Vector Simulator for Quantum Computers\n",
    "\n",
    "The state of a quantum bit, a qubit, can be represented as a vector, and as such, we can simulate them using linear algebra on classical computers. A qubit in state |0> is represented by the vector [1, 0]. This representation signifies that when the first qubit is measured, there is a probability of $1$ that the qubit will be measured in the state |0>. Likewise, a qubit in state |1> is represented by the vector [0, 1], and has a probability of $1$ of being measured in the state |1>.\n",
    "\n",
    "A qubit can also be in the state [$\\frac{1}{\\sqrt{2}}$, $\\frac{1}{\\sqrt{2}}$], where it has an equal probability of being measured in the state |0> or |1>."
   ]
  },
  {
   "cell_type": "code",
   "execution_count": 1,
   "metadata": {},
   "outputs": [],
   "source": [
    "import numpy as np"
   ]
  },
  {
   "cell_type": "code",
   "execution_count": 8,
   "metadata": {},
   "outputs": [
    {
     "data": {
      "text/plain": [
       "array([1, 0, 0, 0, 0, 0, 0, 0])"
      ]
     },
     "execution_count": 8,
     "metadata": {},
     "output_type": "execute_result"
    }
   ],
   "source": [
    "zeroState = np.array([1, 0])\n",
    "oneState = np.array([0, 1])\n"
   ]
  },
  {
   "cell_type": "markdown",
   "metadata": {},
   "source": [
    "## Multi Qubit-Representations\n",
    "\n",
    "Now that we have defined what our one qubit states look like, we now need to look at our multi-qubit states. We represent these states using the Kronecker product. This means a state with one qubit will have length 2, a state with two qubits will have length 4, and a state with n qubits will have length 2^n. The state will be represented as such:\n",
    "\n",
    "|00> = [1, 0, 0, 0]\n",
    "\n",
    "|01> = [0, 1, 0, 0]\n",
    "\n",
    "|10> = [0, 0, 1, 0] \n",
    "\n",
    "|11> = [0, 0, 0, 1]\n",
    "\n"
   ]
  },
  {
   "cell_type": "code",
   "execution_count": 9,
   "metadata": {},
   "outputs": [
    {
     "name": "stdout",
     "output_type": "stream",
     "text": [
      "The state |00> is represented by this vector:  [1 0 0 0]\n",
      "The state |01> is represented by this vector:  [0 1 0 0]\n",
      "The state |10> is represented by this vector:  [0 0 1 0]\n",
      "The state |11> is represented by this vector:  [0 0 0 1]\n"
     ]
    }
   ],
   "source": [
    "zeroZeroState = np.kron(zeroState, zeroState)\n",
    "print(\"The state |00> is represented by this vector: \", zeroZeroState)\n",
    "zeroOneState = np.kron(zeroState, oneState)\n",
    "print(\"The state |01> is represented by this vector: \", zeroOneState)\n",
    "oneZeroState = np.kron(oneState, zeroState)\n",
    "print(\"The state |10> is represented by this vector: \", oneZeroState)\n",
    "oneOneState = np.kron(oneState, oneState)\n",
    "print(\"The state |11> is represented by this vector: \", oneOneState)"
   ]
  },
  {
   "cell_type": "markdown",
   "metadata": {},
   "source": [
    "Now that we have confirmed that our multi-qubit representation is correct, we can now create our gates. Let us start by creating the identity gate."
   ]
  },
  {
   "cell_type": "code",
   "execution_count": 17,
   "metadata": {},
   "outputs": [
    {
     "name": "stdout",
     "output_type": "stream",
     "text": [
      "After passing the qubit |0> through the I gate, we get:  [1. 0.]\n",
      "After passing the qubit |1> through the I gate, we get:  [0. 1.]\n"
     ]
    }
   ],
   "source": [
    "I = np.eye(2)\n",
    "print(\"After passing the qubit |0> through the I gate, we get: \", np.dot(I, zeroState))\n",
    "print(\"After passing the qubit |1> through the I gate, we get: \", np.dot(I, oneState))"
   ]
  }
 ],
 "metadata": {
  "kernelspec": {
   "display_name": "base",
   "language": "python",
   "name": "python3"
  },
  "language_info": {
   "codemirror_mode": {
    "name": "ipython",
    "version": 3
   },
   "file_extension": ".py",
   "mimetype": "text/x-python",
   "name": "python",
   "nbconvert_exporter": "python",
   "pygments_lexer": "ipython3",
   "version": "3.11.5"
  }
 },
 "nbformat": 4,
 "nbformat_minor": 2
}
